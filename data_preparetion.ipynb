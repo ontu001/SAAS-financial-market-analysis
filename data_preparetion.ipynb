{
 "cells": [
  {
   "cell_type": "code",
   "execution_count": 2,
   "id": "171ad4e7",
   "metadata": {},
   "outputs": [
    {
     "name": "stdout",
     "output_type": "stream",
     "text": [
      "Dataset URL: https://www.kaggle.com/datasets/tanishqpratap/saas-financial-market-dataset\n"
     ]
    },
    {
     "data": {
      "text/plain": [
       "True"
      ]
     },
     "execution_count": 2,
     "metadata": {},
     "output_type": "execute_result"
    }
   ],
   "source": [
    "import kaggle\n",
    "from kaggle.api.kaggle_api_extended import KaggleApi\n",
    "\n",
    "api = KaggleApi()\n",
    "api.authenticate()\n",
    "\n",
    "ds = 'tanishqpratap/saas-financial-market-dataset'\n",
    "#api.dataset_download_files(ds, path= './',unzip= True)\n",
    "api.dataset_download_file(ds, file_name= 'saas_financial_market_dataset.csv')"
   ]
  },
  {
   "cell_type": "code",
   "execution_count": 3,
   "id": "3870de49",
   "metadata": {},
   "outputs": [],
   "source": [
    "import pandas as pd"
   ]
  },
  {
   "cell_type": "code",
   "execution_count": 5,
   "id": "1db91190",
   "metadata": {},
   "outputs": [],
   "source": [
    "df = pd.read_csv('saas_financial_market_dataset.csv')"
   ]
  },
  {
   "cell_type": "code",
   "execution_count": 6,
   "id": "28dd1505",
   "metadata": {},
   "outputs": [
    {
     "data": {
      "application/vnd.microsoft.datawrangler.viewer.v0+json": {
       "columns": [
        {
         "name": "index",
         "rawType": "int64",
         "type": "integer"
        },
        {
         "name": "Company",
         "rawType": "object",
         "type": "string"
        },
        {
         "name": "Industry",
         "rawType": "object",
         "type": "string"
        },
        {
         "name": "Region",
         "rawType": "object",
         "type": "string"
        },
        {
         "name": "Founded_Year",
         "rawType": "int64",
         "type": "integer"
        },
        {
         "name": "Year",
         "rawType": "int64",
         "type": "integer"
        },
        {
         "name": "Revenue_USD",
         "rawType": "float64",
         "type": "float"
        },
        {
         "name": "Expenses_USD",
         "rawType": "float64",
         "type": "float"
        },
        {
         "name": "Profit_USD",
         "rawType": "float64",
         "type": "float"
        },
        {
         "name": "Churn_Rate",
         "rawType": "float64",
         "type": "float"
        },
        {
         "name": "Customer_Count",
         "rawType": "int64",
         "type": "integer"
        },
        {
         "name": "ARPU_USD",
         "rawType": "float64",
         "type": "float"
        },
        {
         "name": "Market_Share_Percent",
         "rawType": "float64",
         "type": "float"
        }
       ],
       "ref": "c2247415-ac4a-4385-a293-4ef0a7590d4e",
       "rows": [
        [
         "0",
         "Smith-Crawford",
         "E-Commerce",
         "South America",
         "2006",
         "2020",
         "159715511.4",
         "91576708.21",
         "68138803.19",
         "0.1971",
         "12284",
         "13001.91",
         "2.42"
        ],
        [
         "1",
         "Smith-Crawford",
         "E-Commerce",
         "South America",
         "2006",
         "2021",
         "32886915.03",
         "17207533.84",
         "15679381.19",
         "0.2179",
         "45131",
         "728.7",
         "2.23"
        ],
        [
         "2",
         "Smith-Crawford",
         "E-Commerce",
         "South America",
         "2006",
         "2022",
         "130875917.64",
         "68391125.69",
         "62484791.95",
         "0.1833",
         "3433",
         "38122.9",
         "2.81"
        ],
        [
         "3",
         "Smith-Crawford",
         "E-Commerce",
         "South America",
         "2006",
         "2023",
         "38314092.95",
         "23819752.71",
         "14494340.24",
         "0.1359",
         "28480",
         "1345.3",
         "4.44"
        ],
        [
         "4",
         "Smith-Crawford",
         "E-Commerce",
         "South America",
         "2006",
         "2024",
         "123146873.16",
         "68444729.68",
         "54702143.47",
         "0.0801",
         "1189",
         "103571.8",
         "1.45"
        ]
       ],
       "shape": {
        "columns": 12,
        "rows": 5
       }
      },
      "text/html": [
       "<div>\n",
       "<style scoped>\n",
       "    .dataframe tbody tr th:only-of-type {\n",
       "        vertical-align: middle;\n",
       "    }\n",
       "\n",
       "    .dataframe tbody tr th {\n",
       "        vertical-align: top;\n",
       "    }\n",
       "\n",
       "    .dataframe thead th {\n",
       "        text-align: right;\n",
       "    }\n",
       "</style>\n",
       "<table border=\"1\" class=\"dataframe\">\n",
       "  <thead>\n",
       "    <tr style=\"text-align: right;\">\n",
       "      <th></th>\n",
       "      <th>Company</th>\n",
       "      <th>Industry</th>\n",
       "      <th>Region</th>\n",
       "      <th>Founded_Year</th>\n",
       "      <th>Year</th>\n",
       "      <th>Revenue_USD</th>\n",
       "      <th>Expenses_USD</th>\n",
       "      <th>Profit_USD</th>\n",
       "      <th>Churn_Rate</th>\n",
       "      <th>Customer_Count</th>\n",
       "      <th>ARPU_USD</th>\n",
       "      <th>Market_Share_Percent</th>\n",
       "    </tr>\n",
       "  </thead>\n",
       "  <tbody>\n",
       "    <tr>\n",
       "      <th>0</th>\n",
       "      <td>Smith-Crawford</td>\n",
       "      <td>E-Commerce</td>\n",
       "      <td>South America</td>\n",
       "      <td>2006</td>\n",
       "      <td>2020</td>\n",
       "      <td>1.597155e+08</td>\n",
       "      <td>91576708.21</td>\n",
       "      <td>68138803.19</td>\n",
       "      <td>0.1971</td>\n",
       "      <td>12284</td>\n",
       "      <td>13001.91</td>\n",
       "      <td>2.42</td>\n",
       "    </tr>\n",
       "    <tr>\n",
       "      <th>1</th>\n",
       "      <td>Smith-Crawford</td>\n",
       "      <td>E-Commerce</td>\n",
       "      <td>South America</td>\n",
       "      <td>2006</td>\n",
       "      <td>2021</td>\n",
       "      <td>3.288692e+07</td>\n",
       "      <td>17207533.84</td>\n",
       "      <td>15679381.19</td>\n",
       "      <td>0.2179</td>\n",
       "      <td>45131</td>\n",
       "      <td>728.70</td>\n",
       "      <td>2.23</td>\n",
       "    </tr>\n",
       "    <tr>\n",
       "      <th>2</th>\n",
       "      <td>Smith-Crawford</td>\n",
       "      <td>E-Commerce</td>\n",
       "      <td>South America</td>\n",
       "      <td>2006</td>\n",
       "      <td>2022</td>\n",
       "      <td>1.308759e+08</td>\n",
       "      <td>68391125.69</td>\n",
       "      <td>62484791.95</td>\n",
       "      <td>0.1833</td>\n",
       "      <td>3433</td>\n",
       "      <td>38122.90</td>\n",
       "      <td>2.81</td>\n",
       "    </tr>\n",
       "    <tr>\n",
       "      <th>3</th>\n",
       "      <td>Smith-Crawford</td>\n",
       "      <td>E-Commerce</td>\n",
       "      <td>South America</td>\n",
       "      <td>2006</td>\n",
       "      <td>2023</td>\n",
       "      <td>3.831409e+07</td>\n",
       "      <td>23819752.71</td>\n",
       "      <td>14494340.24</td>\n",
       "      <td>0.1359</td>\n",
       "      <td>28480</td>\n",
       "      <td>1345.30</td>\n",
       "      <td>4.44</td>\n",
       "    </tr>\n",
       "    <tr>\n",
       "      <th>4</th>\n",
       "      <td>Smith-Crawford</td>\n",
       "      <td>E-Commerce</td>\n",
       "      <td>South America</td>\n",
       "      <td>2006</td>\n",
       "      <td>2024</td>\n",
       "      <td>1.231469e+08</td>\n",
       "      <td>68444729.68</td>\n",
       "      <td>54702143.47</td>\n",
       "      <td>0.0801</td>\n",
       "      <td>1189</td>\n",
       "      <td>103571.80</td>\n",
       "      <td>1.45</td>\n",
       "    </tr>\n",
       "  </tbody>\n",
       "</table>\n",
       "</div>"
      ],
      "text/plain": [
       "          Company    Industry         Region  Founded_Year  Year  \\\n",
       "0  Smith-Crawford  E-Commerce  South America          2006  2020   \n",
       "1  Smith-Crawford  E-Commerce  South America          2006  2021   \n",
       "2  Smith-Crawford  E-Commerce  South America          2006  2022   \n",
       "3  Smith-Crawford  E-Commerce  South America          2006  2023   \n",
       "4  Smith-Crawford  E-Commerce  South America          2006  2024   \n",
       "\n",
       "    Revenue_USD  Expenses_USD   Profit_USD  Churn_Rate  Customer_Count  \\\n",
       "0  1.597155e+08   91576708.21  68138803.19      0.1971           12284   \n",
       "1  3.288692e+07   17207533.84  15679381.19      0.2179           45131   \n",
       "2  1.308759e+08   68391125.69  62484791.95      0.1833            3433   \n",
       "3  3.831409e+07   23819752.71  14494340.24      0.1359           28480   \n",
       "4  1.231469e+08   68444729.68  54702143.47      0.0801            1189   \n",
       "\n",
       "    ARPU_USD  Market_Share_Percent  \n",
       "0   13001.91                  2.42  \n",
       "1     728.70                  2.23  \n",
       "2   38122.90                  2.81  \n",
       "3    1345.30                  4.44  \n",
       "4  103571.80                  1.45  "
      ]
     },
     "execution_count": 6,
     "metadata": {},
     "output_type": "execute_result"
    }
   ],
   "source": [
    "df.head()"
   ]
  }
 ],
 "metadata": {
  "kernelspec": {
   "display_name": "Python 3",
   "language": "python",
   "name": "python3"
  },
  "language_info": {
   "codemirror_mode": {
    "name": "ipython",
    "version": 3
   },
   "file_extension": ".py",
   "mimetype": "text/x-python",
   "name": "python",
   "nbconvert_exporter": "python",
   "pygments_lexer": "ipython3",
   "version": "3.13.5"
  }
 },
 "nbformat": 4,
 "nbformat_minor": 5
}
